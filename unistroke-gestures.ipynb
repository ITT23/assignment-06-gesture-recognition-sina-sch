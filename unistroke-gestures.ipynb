{
 "cells": [
  {
   "attachments": {},
   "cell_type": "markdown",
   "metadata": {},
   "source": [
    "# 2 Comparing Gesture Recognizers"
   ]
  },
  {
   "cell_type": "code",
   "execution_count": 86,
   "metadata": {},
   "outputs": [],
   "source": [
    "from matplotlib import pyplot as plt\n",
    "import numpy as np\n",
    "import os\n",
    "import time\n",
    "\n",
    "os.environ['TF_CPP_MIN_LOG_LEVEL'] = '2'\n",
    "\n",
    "from keras.models import Sequential\n",
    "from keras.layers import Dense, LSTM\n",
    "from keras.callbacks import ReduceLROnPlateau, EarlyStopping\n",
    "from keras.utils import to_categorical\n",
    "from tqdm.notebook import tqdm\n",
    "from sklearn.model_selection import train_test_split\n",
    "from scipy.signal import resample\n",
    "import xml.etree.ElementTree as ET\n",
    "from sklearn.preprocessing import LabelEncoder, StandardScaler\n",
    "\n",
    "NUM_POINTS = 50"
   ]
  },
  {
   "cell_type": "code",
   "execution_count": 44,
   "metadata": {},
   "outputs": [],
   "source": [
    "def load_data(folder, subfolder):\n",
    "    data = []\n",
    "\n",
    "    for root, subdirs, files in os.walk(folder):\n",
    "        if 'ipynb_checkpoint' in root:\n",
    "            continue\n",
    "\n",
    "        if len(files) > 0:\n",
    "            for f in tqdm(files):\n",
    "                if '.xml' in f:\n",
    "                    fname = f.split('.')[0]\n",
    "                    label = fname[:-2]\n",
    "\n",
    "                    xml_root = ET.parse(f'{subfolder}{root}/{f}').getroot()\n",
    "\n",
    "                    points = []\n",
    "                    for element in xml_root.findall('Point'):\n",
    "                        x = element.get('X')\n",
    "                        y = element.get('Y')\n",
    "                        points.append([x, y])\n",
    "\n",
    "                    points = np.array(points, dtype=float)\n",
    "\n",
    "                    scaler = StandardScaler()\n",
    "                    points = scaler.fit_transform(points)\n",
    "\n",
    "                    resampled = resample(points, NUM_POINTS)\n",
    "\n",
    "                    data.append((label, resampled))\n",
    "    return data"
   ]
  },
  {
   "cell_type": "code",
   "execution_count": 45,
   "metadata": {},
   "outputs": [
    {
     "data": {
      "application/vnd.jupyter.widget-view+json": {
       "model_id": "f099b7f6cc6e4de6886018d84f82b55b",
       "version_major": 2,
       "version_minor": 0
      },
      "text/plain": [
       "  0%|          | 0/160 [00:00<?, ?it/s]"
      ]
     },
     "metadata": {},
     "output_type": "display_data"
    },
    {
     "data": {
      "application/vnd.jupyter.widget-view+json": {
       "model_id": "d6e5cd1c1e0440bba7be793c0257fb9d",
       "version_major": 2,
       "version_minor": 0
      },
      "text/plain": [
       "  0%|          | 0/160 [00:00<?, ?it/s]"
      ]
     },
     "metadata": {},
     "output_type": "display_data"
    },
    {
     "data": {
      "application/vnd.jupyter.widget-view+json": {
       "model_id": "3de6c791a70f410da200f59bddd0f471",
       "version_major": 2,
       "version_minor": 0
      },
      "text/plain": [
       "  0%|          | 0/160 [00:00<?, ?it/s]"
      ]
     },
     "metadata": {},
     "output_type": "display_data"
    },
    {
     "data": {
      "application/vnd.jupyter.widget-view+json": {
       "model_id": "1f86ca43a7e8407ba9159a70eb389e94",
       "version_major": 2,
       "version_minor": 0
      },
      "text/plain": [
       "  0%|          | 0/160 [00:00<?, ?it/s]"
      ]
     },
     "metadata": {},
     "output_type": "display_data"
    },
    {
     "data": {
      "application/vnd.jupyter.widget-view+json": {
       "model_id": "627fdd069d4f4f3d8d43ce5e304fd54b",
       "version_major": 2,
       "version_minor": 0
      },
      "text/plain": [
       "  0%|          | 0/160 [00:00<?, ?it/s]"
      ]
     },
     "metadata": {},
     "output_type": "display_data"
    },
    {
     "data": {
      "application/vnd.jupyter.widget-view+json": {
       "model_id": "2713fd1a17bb43f79e827d7ab932d867",
       "version_major": 2,
       "version_minor": 0
      },
      "text/plain": [
       "  0%|          | 0/160 [00:00<?, ?it/s]"
      ]
     },
     "metadata": {},
     "output_type": "display_data"
    },
    {
     "data": {
      "application/vnd.jupyter.widget-view+json": {
       "model_id": "717228dc719145b0aa46817d8f44f47b",
       "version_major": 2,
       "version_minor": 0
      },
      "text/plain": [
       "  0%|          | 0/160 [00:00<?, ?it/s]"
      ]
     },
     "metadata": {},
     "output_type": "display_data"
    },
    {
     "data": {
      "application/vnd.jupyter.widget-view+json": {
       "model_id": "8b43cea8d4d24385bb59525a3acc5202",
       "version_major": 2,
       "version_minor": 0
      },
      "text/plain": [
       "  0%|          | 0/160 [00:00<?, ?it/s]"
      ]
     },
     "metadata": {},
     "output_type": "display_data"
    },
    {
     "data": {
      "application/vnd.jupyter.widget-view+json": {
       "model_id": "11b327aecc104183b98b7c215ce2e6d1",
       "version_major": 2,
       "version_minor": 0
      },
      "text/plain": [
       "  0%|          | 0/160 [00:00<?, ?it/s]"
      ]
     },
     "metadata": {},
     "output_type": "display_data"
    },
    {
     "data": {
      "application/vnd.jupyter.widget-view+json": {
       "model_id": "77989b15fb2a42778e8c0bdc986f9abd",
       "version_major": 2,
       "version_minor": 0
      },
      "text/plain": [
       "  0%|          | 0/160 [00:00<?, ?it/s]"
      ]
     },
     "metadata": {},
     "output_type": "display_data"
    },
    {
     "data": {
      "application/vnd.jupyter.widget-view+json": {
       "model_id": "05e9a1056ee541939e932f6075cc04dd",
       "version_major": 2,
       "version_minor": 0
      },
      "text/plain": [
       "  0%|          | 0/160 [00:00<?, ?it/s]"
      ]
     },
     "metadata": {},
     "output_type": "display_data"
    },
    {
     "data": {
      "application/vnd.jupyter.widget-view+json": {
       "model_id": "a1dd6d71f2424482aec6a54a93530eb9",
       "version_major": 2,
       "version_minor": 0
      },
      "text/plain": [
       "  0%|          | 0/160 [00:00<?, ?it/s]"
      ]
     },
     "metadata": {},
     "output_type": "display_data"
    },
    {
     "data": {
      "application/vnd.jupyter.widget-view+json": {
       "model_id": "7172eed857084284b035b5953d5a9690",
       "version_major": 2,
       "version_minor": 0
      },
      "text/plain": [
       "  0%|          | 0/160 [00:00<?, ?it/s]"
      ]
     },
     "metadata": {},
     "output_type": "display_data"
    },
    {
     "data": {
      "application/vnd.jupyter.widget-view+json": {
       "model_id": "31bc37b048d04cfe82df1098c11c49ab",
       "version_major": 2,
       "version_minor": 0
      },
      "text/plain": [
       "  0%|          | 0/160 [00:00<?, ?it/s]"
      ]
     },
     "metadata": {},
     "output_type": "display_data"
    },
    {
     "data": {
      "application/vnd.jupyter.widget-view+json": {
       "model_id": "717a31b40986498f8a7c6024fd0010f2",
       "version_major": 2,
       "version_minor": 0
      },
      "text/plain": [
       "  0%|          | 0/160 [00:00<?, ?it/s]"
      ]
     },
     "metadata": {},
     "output_type": "display_data"
    },
    {
     "data": {
      "application/vnd.jupyter.widget-view+json": {
       "model_id": "59899b9891354c2f8e46f2495277da6d",
       "version_major": 2,
       "version_minor": 0
      },
      "text/plain": [
       "  0%|          | 0/160 [00:00<?, ?it/s]"
      ]
     },
     "metadata": {},
     "output_type": "display_data"
    },
    {
     "data": {
      "application/vnd.jupyter.widget-view+json": {
       "model_id": "f5312761e55b4a41aa20aba3393c7ac1",
       "version_major": 2,
       "version_minor": 0
      },
      "text/plain": [
       "  0%|          | 0/160 [00:00<?, ?it/s]"
      ]
     },
     "metadata": {},
     "output_type": "display_data"
    },
    {
     "data": {
      "application/vnd.jupyter.widget-view+json": {
       "model_id": "f8b3ecc19f5d4a44a74d44b77ae31aca",
       "version_major": 2,
       "version_minor": 0
      },
      "text/plain": [
       "  0%|          | 0/160 [00:00<?, ?it/s]"
      ]
     },
     "metadata": {},
     "output_type": "display_data"
    },
    {
     "data": {
      "application/vnd.jupyter.widget-view+json": {
       "model_id": "23e3a9ead4654e8998bbf5e3ce6ab2d7",
       "version_major": 2,
       "version_minor": 0
      },
      "text/plain": [
       "  0%|          | 0/160 [00:00<?, ?it/s]"
      ]
     },
     "metadata": {},
     "output_type": "display_data"
    },
    {
     "data": {
      "application/vnd.jupyter.widget-view+json": {
       "model_id": "d295df2a5d1c4a5981757c2caf7d81e1",
       "version_major": 2,
       "version_minor": 0
      },
      "text/plain": [
       "  0%|          | 0/160 [00:00<?, ?it/s]"
      ]
     },
     "metadata": {},
     "output_type": "display_data"
    },
    {
     "data": {
      "application/vnd.jupyter.widget-view+json": {
       "model_id": "06e9fe83671844a49437fb922c4a8500",
       "version_major": 2,
       "version_minor": 0
      },
      "text/plain": [
       "  0%|          | 0/160 [00:00<?, ?it/s]"
      ]
     },
     "metadata": {},
     "output_type": "display_data"
    },
    {
     "data": {
      "application/vnd.jupyter.widget-view+json": {
       "model_id": "824c572a036d49438f87a600a3c7e3bf",
       "version_major": 2,
       "version_minor": 0
      },
      "text/plain": [
       "  0%|          | 0/160 [00:00<?, ?it/s]"
      ]
     },
     "metadata": {},
     "output_type": "display_data"
    },
    {
     "data": {
      "application/vnd.jupyter.widget-view+json": {
       "model_id": "d9cdb2369c9646f5a78ea2bd7e79a2ad",
       "version_major": 2,
       "version_minor": 0
      },
      "text/plain": [
       "  0%|          | 0/160 [00:00<?, ?it/s]"
      ]
     },
     "metadata": {},
     "output_type": "display_data"
    },
    {
     "data": {
      "application/vnd.jupyter.widget-view+json": {
       "model_id": "b78e13c08efa48a88a7fbf93b6b5b4b0",
       "version_major": 2,
       "version_minor": 0
      },
      "text/plain": [
       "  0%|          | 0/160 [00:00<?, ?it/s]"
      ]
     },
     "metadata": {},
     "output_type": "display_data"
    },
    {
     "data": {
      "application/vnd.jupyter.widget-view+json": {
       "model_id": "d2ecf88c948f4bb6bc2c9d80b661a0fd",
       "version_major": 2,
       "version_minor": 0
      },
      "text/plain": [
       "  0%|          | 0/160 [00:00<?, ?it/s]"
      ]
     },
     "metadata": {},
     "output_type": "display_data"
    },
    {
     "data": {
      "application/vnd.jupyter.widget-view+json": {
       "model_id": "f08f51dc74e4400ab13c830587a49c3f",
       "version_major": 2,
       "version_minor": 0
      },
      "text/plain": [
       "  0%|          | 0/160 [00:00<?, ?it/s]"
      ]
     },
     "metadata": {},
     "output_type": "display_data"
    },
    {
     "data": {
      "application/vnd.jupyter.widget-view+json": {
       "model_id": "0591869dc33a4d7cafb19170ee8548b6",
       "version_major": 2,
       "version_minor": 0
      },
      "text/plain": [
       "  0%|          | 0/160 [00:00<?, ?it/s]"
      ]
     },
     "metadata": {},
     "output_type": "display_data"
    },
    {
     "data": {
      "application/vnd.jupyter.widget-view+json": {
       "model_id": "76acd7ceef6540a59596e3913a50e63f",
       "version_major": 2,
       "version_minor": 0
      },
      "text/plain": [
       "  0%|          | 0/160 [00:00<?, ?it/s]"
      ]
     },
     "metadata": {},
     "output_type": "display_data"
    },
    {
     "data": {
      "application/vnd.jupyter.widget-view+json": {
       "model_id": "c22c64f25dbf4dc1a55d535b0771b4cd",
       "version_major": 2,
       "version_minor": 0
      },
      "text/plain": [
       "  0%|          | 0/160 [00:00<?, ?it/s]"
      ]
     },
     "metadata": {},
     "output_type": "display_data"
    },
    {
     "data": {
      "application/vnd.jupyter.widget-view+json": {
       "model_id": "a72d45b1e3174b6badea431b5de2514f",
       "version_major": 2,
       "version_minor": 0
      },
      "text/plain": [
       "  0%|          | 0/160 [00:00<?, ?it/s]"
      ]
     },
     "metadata": {},
     "output_type": "display_data"
    },
    {
     "data": {
      "application/vnd.jupyter.widget-view+json": {
       "model_id": "4e296721c2b74100bd43f911846b7d4b",
       "version_major": 2,
       "version_minor": 0
      },
      "text/plain": [
       "  0%|          | 0/160 [00:00<?, ?it/s]"
      ]
     },
     "metadata": {},
     "output_type": "display_data"
    },
    {
     "data": {
      "application/vnd.jupyter.widget-view+json": {
       "model_id": "61cdffcef0cc4ae5bdb618d128d0af0c",
       "version_major": 2,
       "version_minor": 0
      },
      "text/plain": [
       "  0%|          | 0/160 [00:00<?, ?it/s]"
      ]
     },
     "metadata": {},
     "output_type": "display_data"
    },
    {
     "data": {
      "application/vnd.jupyter.widget-view+json": {
       "model_id": "4bbb48d6b9a14bcb8e7c354ae2f966e9",
       "version_major": 2,
       "version_minor": 0
      },
      "text/plain": [
       "  0%|          | 0/160 [00:00<?, ?it/s]"
      ]
     },
     "metadata": {},
     "output_type": "display_data"
    },
    {
     "data": {
      "application/vnd.jupyter.widget-view+json": {
       "model_id": "60826076e9054c48aef06d0f9154f077",
       "version_major": 2,
       "version_minor": 0
      },
      "text/plain": [
       "  0%|          | 0/160 [00:00<?, ?it/s]"
      ]
     },
     "metadata": {},
     "output_type": "display_data"
    }
   ],
   "source": [
    "#train_data = load_data('xml_logs', 'dataset/')\n",
    "test_data = load_data('dataset', '')"
   ]
  },
  {
   "cell_type": "code",
   "execution_count": 46,
   "metadata": {},
   "outputs": [],
   "source": [
    "def prepare_data(data):\n",
    "    labels = [sample[0] for sample in data]\n",
    "\n",
    "    print(set(labels))\n",
    "\n",
    "    encoder = LabelEncoder()\n",
    "    labels_encoded = encoder.fit_transform(labels)\n",
    "\n",
    "    print(set(labels_encoded))\n",
    "\n",
    "    y = to_categorical(labels_encoded)\n",
    "\n",
    "    print(len(y[0]))\n",
    "\n",
    "    sequences = [sample[1] for sample in data]\n",
    "    X = np.array(sequences)\n",
    "\n",
    "    X_train, X_test, y_train, y_test = train_test_split(X, y, test_size=0.2, random_state=42)\n",
    "    \n",
    "    print(X_train.shape, X_test.shape, y_train.shape, y_test.shape)\n",
    "    \n",
    "    return X_train, X_test, y_train, y_test, labels"
   ]
  },
  {
   "cell_type": "code",
   "execution_count": 47,
   "metadata": {},
   "outputs": [
    {
     "name": "stdout",
     "output_type": "stream",
     "text": [
      "{'left_sq_bracket', 'pigtail', 'delete_mark', 'right_curly_brace', 'right_sq_bracket', 'question_mark', 'v', 'caret', 'x', 'check', 'rectangle', 'circle', 'star', 'arrow', 'triangle', 'zig-zag', 'left_curly_brace'}\n",
      "{0, 1, 2, 3, 4, 5, 6, 7, 8, 9, 10, 11, 12, 13, 14, 15, 16}\n",
      "17\n",
      "(4352, 50, 2) (1088, 50, 2) (4352, 17) (1088, 17)\n"
     ]
    }
   ],
   "source": [
    "X_train, X_test, y_train, y_test, labels = prepare_data(test_data)"
   ]
  },
  {
   "cell_type": "code",
   "execution_count": 48,
   "metadata": {},
   "outputs": [],
   "source": [
    "def create_model(X_train, X_test, y_train, y_test, labels, num_parameters):\n",
    "    # Define the model\n",
    "    model = Sequential()\n",
    "\n",
    "    # add LSTM layer\n",
    "    # input shape is (length of an individual sample, dimensions of the sample)\n",
    "    # in our case: two dimensions, as we have X and Y coordinates\n",
    "    model.add(LSTM(num_parameters, input_shape=(NUM_POINTS, 2)))\n",
    "\n",
    "    # add dense layer to do machine learning magic\n",
    "    model.add(Dense(32, activation='relu'))\n",
    "\n",
    "    # here, you can add more layers and maybe a dropout for better performance\n",
    "\n",
    "    # softmax layer for classification\n",
    "    model.add(Dense(len(set(labels)), activation='softmax'))\n",
    "\n",
    "    # Compile the model\n",
    "    model.compile(loss='categorical_crossentropy', optimizer='adam', metrics=['accuracy'])\n",
    "\n",
    "    reduce_lr = ReduceLROnPlateau(monitor='val_loss', factor=0.2, patience=2, min_lr=0.0001)\n",
    "    stop_early = EarlyStopping(monitor='val_loss', patience=3)\n",
    "    \n",
    "    # Train the model\n",
    "    history = model.fit(\n",
    "        X_train,\n",
    "        y_train,\n",
    "        epochs=20,\n",
    "        batch_size=32,\n",
    "        validation_data=(X_test, y_test),\n",
    "        verbose=1,\n",
    "        callbacks=[reduce_lr, stop_early]\n",
    "    )\n",
    "    \n",
    "    model.summary()\n",
    "    \n",
    "    return model, history"
   ]
  },
  {
   "cell_type": "code",
   "execution_count": 54,
   "metadata": {},
   "outputs": [
    {
     "name": "stdout",
     "output_type": "stream",
     "text": [
      "Epoch 1/20\n",
      "136/136 [==============================] - 7s 28ms/step - loss: 1.5772 - accuracy: 0.5630 - val_loss: 0.6441 - val_accuracy: 0.8529 - lr: 0.0010\n",
      "Epoch 2/20\n",
      "136/136 [==============================] - 5s 36ms/step - loss: 0.4078 - accuracy: 0.9092 - val_loss: 0.2852 - val_accuracy: 0.9430 - lr: 0.0010\n",
      "Epoch 3/20\n",
      "136/136 [==============================] - 5s 38ms/step - loss: 0.2269 - accuracy: 0.9501 - val_loss: 0.2221 - val_accuracy: 0.9421 - lr: 0.0010\n",
      "Epoch 4/20\n",
      "136/136 [==============================] - 5s 33ms/step - loss: 0.1649 - accuracy: 0.9554 - val_loss: 0.1678 - val_accuracy: 0.9504 - lr: 0.0010\n",
      "Epoch 5/20\n",
      "136/136 [==============================] - 5s 37ms/step - loss: 0.1281 - accuracy: 0.9632 - val_loss: 0.1391 - val_accuracy: 0.9596 - lr: 0.0010\n",
      "Epoch 6/20\n",
      "136/136 [==============================] - 4s 26ms/step - loss: 0.1157 - accuracy: 0.9685 - val_loss: 0.1161 - val_accuracy: 0.9632 - lr: 0.0010\n",
      "Epoch 7/20\n",
      "136/136 [==============================] - 5s 37ms/step - loss: 0.0931 - accuracy: 0.9722 - val_loss: 0.1023 - val_accuracy: 0.9706 - lr: 0.0010\n",
      "Epoch 8/20\n",
      "136/136 [==============================] - 4s 33ms/step - loss: 0.0810 - accuracy: 0.9766 - val_loss: 0.1290 - val_accuracy: 0.9660 - lr: 0.0010\n",
      "Epoch 9/20\n",
      "136/136 [==============================] - 5s 38ms/step - loss: 0.0750 - accuracy: 0.9798 - val_loss: 0.0806 - val_accuracy: 0.9761 - lr: 0.0010\n",
      "Epoch 10/20\n",
      "136/136 [==============================] - 5s 36ms/step - loss: 0.0721 - accuracy: 0.9793 - val_loss: 0.0937 - val_accuracy: 0.9724 - lr: 0.0010\n",
      "Epoch 11/20\n",
      "136/136 [==============================] - 4s 30ms/step - loss: 0.0793 - accuracy: 0.9770 - val_loss: 0.0827 - val_accuracy: 0.9733 - lr: 0.0010\n",
      "Epoch 12/20\n",
      "136/136 [==============================] - 4s 30ms/step - loss: 0.0414 - accuracy: 0.9894 - val_loss: 0.0714 - val_accuracy: 0.9770 - lr: 2.0000e-04\n",
      "Epoch 13/20\n",
      "136/136 [==============================] - 5s 35ms/step - loss: 0.0356 - accuracy: 0.9910 - val_loss: 0.0656 - val_accuracy: 0.9770 - lr: 2.0000e-04\n",
      "Epoch 14/20\n",
      "136/136 [==============================] - 4s 31ms/step - loss: 0.0339 - accuracy: 0.9915 - val_loss: 0.0623 - val_accuracy: 0.9770 - lr: 2.0000e-04\n",
      "Epoch 15/20\n",
      "136/136 [==============================] - 4s 30ms/step - loss: 0.0320 - accuracy: 0.9917 - val_loss: 0.0631 - val_accuracy: 0.9779 - lr: 2.0000e-04\n",
      "Epoch 16/20\n",
      "136/136 [==============================] - 4s 32ms/step - loss: 0.0299 - accuracy: 0.9924 - val_loss: 0.0600 - val_accuracy: 0.9807 - lr: 2.0000e-04\n",
      "Epoch 17/20\n",
      "136/136 [==============================] - 5s 36ms/step - loss: 0.0310 - accuracy: 0.9920 - val_loss: 0.0600 - val_accuracy: 0.9807 - lr: 2.0000e-04\n",
      "Epoch 18/20\n",
      "136/136 [==============================] - 5s 36ms/step - loss: 0.0286 - accuracy: 0.9917 - val_loss: 0.0609 - val_accuracy: 0.9807 - lr: 2.0000e-04\n",
      "Epoch 19/20\n",
      "136/136 [==============================] - 5s 34ms/step - loss: 0.0259 - accuracy: 0.9936 - val_loss: 0.0622 - val_accuracy: 0.9779 - lr: 1.0000e-04\n",
      "Epoch 20/20\n",
      "136/136 [==============================] - 5s 33ms/step - loss: 0.0257 - accuracy: 0.9936 - val_loss: 0.0610 - val_accuracy: 0.9789 - lr: 1.0000e-04\n",
      "Model: \"sequential_4\"\n",
      "_________________________________________________________________\n",
      " Layer (type)                Output Shape              Param #   \n",
      "=================================================================\n",
      " lstm_4 (LSTM)               (None, 64)                17152     \n",
      "                                                                 \n",
      " dense_7 (Dense)             (None, 32)                2080      \n",
      "                                                                 \n",
      " dense_8 (Dense)             (None, 17)                561       \n",
      "                                                                 \n",
      "=================================================================\n",
      "Total params: 19,793\n",
      "Trainable params: 19,793\n",
      "Non-trainable params: 0\n",
      "_________________________________________________________________\n",
      "Epoch 1/20\n",
      "136/136 [==============================] - 6s 34ms/step - loss: 2.0906 - accuracy: 0.3994 - val_loss: 1.0793 - val_accuracy: 0.8015 - lr: 0.0010\n",
      "Epoch 2/20\n",
      "136/136 [==============================] - 4s 26ms/step - loss: 0.6649 - accuracy: 0.8435 - val_loss: 0.4784 - val_accuracy: 0.9035 - lr: 0.0010\n",
      "Epoch 3/20\n",
      "136/136 [==============================] - 3s 20ms/step - loss: 0.3655 - accuracy: 0.9230 - val_loss: 0.3387 - val_accuracy: 0.9338 - lr: 0.0010\n",
      "Epoch 4/20\n",
      "136/136 [==============================] - 3s 23ms/step - loss: 0.2503 - accuracy: 0.9465 - val_loss: 0.2921 - val_accuracy: 0.9283 - lr: 0.0010\n",
      "Epoch 5/20\n",
      "136/136 [==============================] - 3s 20ms/step - loss: 0.1932 - accuracy: 0.9554 - val_loss: 0.2034 - val_accuracy: 0.9485 - lr: 0.0010\n",
      "Epoch 6/20\n",
      "136/136 [==============================] - 3s 20ms/step - loss: 0.1610 - accuracy: 0.9596 - val_loss: 0.2166 - val_accuracy: 0.9485 - lr: 0.0010\n",
      "Epoch 7/20\n",
      "136/136 [==============================] - 3s 19ms/step - loss: 0.1414 - accuracy: 0.9619 - val_loss: 0.1968 - val_accuracy: 0.9467 - lr: 0.0010\n",
      "Epoch 8/20\n",
      "136/136 [==============================] - 3s 21ms/step - loss: 0.1283 - accuracy: 0.9653 - val_loss: 0.1428 - val_accuracy: 0.9559 - lr: 0.0010\n",
      "Epoch 9/20\n",
      "136/136 [==============================] - 3s 22ms/step - loss: 0.0995 - accuracy: 0.9717 - val_loss: 0.1440 - val_accuracy: 0.9559 - lr: 0.0010\n",
      "Epoch 10/20\n",
      "136/136 [==============================] - 3s 22ms/step - loss: 0.0926 - accuracy: 0.9722 - val_loss: 0.1326 - val_accuracy: 0.9642 - lr: 0.0010\n",
      "Epoch 11/20\n",
      "136/136 [==============================] - 3s 24ms/step - loss: 0.0775 - accuracy: 0.9763 - val_loss: 0.1098 - val_accuracy: 0.9678 - lr: 0.0010\n",
      "Epoch 12/20\n",
      "136/136 [==============================] - 3s 21ms/step - loss: 0.0770 - accuracy: 0.9782 - val_loss: 0.1248 - val_accuracy: 0.9642 - lr: 0.0010\n",
      "Epoch 13/20\n",
      "136/136 [==============================] - 3s 19ms/step - loss: 0.0770 - accuracy: 0.9775 - val_loss: 0.0936 - val_accuracy: 0.9743 - lr: 0.0010\n",
      "Epoch 14/20\n",
      "136/136 [==============================] - 3s 19ms/step - loss: 0.0591 - accuracy: 0.9846 - val_loss: 0.1102 - val_accuracy: 0.9715 - lr: 0.0010\n",
      "Epoch 15/20\n",
      "136/136 [==============================] - 2s 18ms/step - loss: 0.0659 - accuracy: 0.9825 - val_loss: 0.1027 - val_accuracy: 0.9715 - lr: 0.0010\n",
      "Epoch 16/20\n",
      "136/136 [==============================] - 3s 20ms/step - loss: 0.0459 - accuracy: 0.9892 - val_loss: 0.0834 - val_accuracy: 0.9807 - lr: 2.0000e-04\n",
      "Epoch 17/20\n",
      "136/136 [==============================] - 3s 22ms/step - loss: 0.0397 - accuracy: 0.9913 - val_loss: 0.0805 - val_accuracy: 0.9798 - lr: 2.0000e-04\n",
      "Epoch 18/20\n",
      "136/136 [==============================] - 3s 24ms/step - loss: 0.0392 - accuracy: 0.9906 - val_loss: 0.0822 - val_accuracy: 0.9798 - lr: 2.0000e-04\n",
      "Epoch 19/20\n",
      "136/136 [==============================] - 4s 26ms/step - loss: 0.0375 - accuracy: 0.9920 - val_loss: 0.0795 - val_accuracy: 0.9807 - lr: 2.0000e-04\n",
      "Epoch 20/20\n",
      "136/136 [==============================] - 3s 23ms/step - loss: 0.0363 - accuracy: 0.9922 - val_loss: 0.0797 - val_accuracy: 0.9798 - lr: 2.0000e-04\n",
      "Model: \"sequential_5\"\n",
      "_________________________________________________________________\n",
      " Layer (type)                Output Shape              Param #   \n",
      "=================================================================\n",
      " lstm_5 (LSTM)               (None, 32)                4480      \n",
      "                                                                 \n",
      " dense_9 (Dense)             (None, 32)                1056      \n",
      "                                                                 \n",
      " dense_10 (Dense)            (None, 17)                561       \n",
      "                                                                 \n",
      "=================================================================\n",
      "Total params: 6,097\n",
      "Trainable params: 6,097\n",
      "Non-trainable params: 0\n",
      "_________________________________________________________________\n",
      "Epoch 1/20\n",
      "136/136 [==============================] - 5s 22ms/step - loss: 2.3684 - accuracy: 0.3332 - val_loss: 1.6612 - val_accuracy: 0.5303 - lr: 0.0010\n",
      "Epoch 2/20\n",
      "136/136 [==============================] - 2s 18ms/step - loss: 1.1293 - accuracy: 0.7197 - val_loss: 0.7904 - val_accuracy: 0.8070 - lr: 0.0010\n",
      "Epoch 3/20\n",
      "136/136 [==============================] - 3s 20ms/step - loss: 0.6498 - accuracy: 0.8385 - val_loss: 0.5709 - val_accuracy: 0.8529 - lr: 0.0010\n",
      "Epoch 4/20\n",
      "136/136 [==============================] - 3s 19ms/step - loss: 0.4954 - accuracy: 0.8653 - val_loss: 0.4629 - val_accuracy: 0.8621 - lr: 0.0010\n",
      "Epoch 5/20\n",
      "136/136 [==============================] - 3s 21ms/step - loss: 0.4087 - accuracy: 0.8840 - val_loss: 0.3901 - val_accuracy: 0.8888 - lr: 0.0010\n",
      "Epoch 6/20\n",
      "136/136 [==============================] - 3s 23ms/step - loss: 0.3309 - accuracy: 0.9058 - val_loss: 0.3358 - val_accuracy: 0.8998 - lr: 0.0010\n",
      "Epoch 7/20\n",
      "136/136 [==============================] - 2s 11ms/step - loss: 0.2770 - accuracy: 0.9193 - val_loss: 0.2870 - val_accuracy: 0.9154 - lr: 0.0010\n",
      "Epoch 8/20\n",
      "136/136 [==============================] - 1s 8ms/step - loss: 0.2420 - accuracy: 0.9295 - val_loss: 0.2625 - val_accuracy: 0.9219 - lr: 0.0010\n",
      "Epoch 9/20\n",
      "136/136 [==============================] - 2s 16ms/step - loss: 0.2247 - accuracy: 0.9341 - val_loss: 0.2466 - val_accuracy: 0.9292 - lr: 0.0010\n",
      "Epoch 10/20\n",
      "136/136 [==============================] - 2s 18ms/step - loss: 0.1957 - accuracy: 0.9451 - val_loss: 0.2345 - val_accuracy: 0.9338 - lr: 0.0010\n",
      "Epoch 11/20\n",
      "136/136 [==============================] - 3s 21ms/step - loss: 0.1779 - accuracy: 0.9490 - val_loss: 0.2132 - val_accuracy: 0.9301 - lr: 0.0010\n",
      "Epoch 12/20\n",
      "136/136 [==============================] - 3s 20ms/step - loss: 0.1655 - accuracy: 0.9513 - val_loss: 0.1960 - val_accuracy: 0.9430 - lr: 0.0010\n",
      "Epoch 13/20\n",
      "136/136 [==============================] - 3s 23ms/step - loss: 0.1562 - accuracy: 0.9536 - val_loss: 0.1827 - val_accuracy: 0.9449 - lr: 0.0010\n",
      "Epoch 14/20\n",
      "136/136 [==============================] - 1s 8ms/step - loss: 0.1400 - accuracy: 0.9607 - val_loss: 0.1768 - val_accuracy: 0.9485 - lr: 0.0010\n",
      "Epoch 15/20\n",
      "136/136 [==============================] - 1s 8ms/step - loss: 0.1310 - accuracy: 0.9600 - val_loss: 0.1623 - val_accuracy: 0.9605 - lr: 0.0010\n",
      "Epoch 16/20\n",
      "136/136 [==============================] - 2s 16ms/step - loss: 0.1252 - accuracy: 0.9646 - val_loss: 0.1660 - val_accuracy: 0.9623 - lr: 0.0010\n",
      "Epoch 17/20\n",
      "136/136 [==============================] - 2s 14ms/step - loss: 0.1068 - accuracy: 0.9697 - val_loss: 0.1597 - val_accuracy: 0.9568 - lr: 0.0010\n",
      "Epoch 18/20\n",
      "136/136 [==============================] - 2s 15ms/step - loss: 0.0982 - accuracy: 0.9736 - val_loss: 0.1513 - val_accuracy: 0.9559 - lr: 0.0010\n",
      "Epoch 19/20\n",
      "136/136 [==============================] - 3s 19ms/step - loss: 0.1005 - accuracy: 0.9715 - val_loss: 0.1395 - val_accuracy: 0.9632 - lr: 0.0010\n",
      "Epoch 20/20\n",
      "136/136 [==============================] - 3s 20ms/step - loss: 0.0938 - accuracy: 0.9752 - val_loss: 0.1308 - val_accuracy: 0.9642 - lr: 0.0010\n",
      "Model: \"sequential_6\"\n",
      "_________________________________________________________________\n",
      " Layer (type)                Output Shape              Param #   \n",
      "=================================================================\n",
      " lstm_6 (LSTM)               (None, 16)                1216      \n",
      "                                                                 \n",
      " dense_11 (Dense)            (None, 32)                544       \n",
      "                                                                 \n",
      " dense_12 (Dense)            (None, 17)                561       \n",
      "                                                                 \n",
      "=================================================================\n",
      "Total params: 2,321\n",
      "Trainable params: 2,321\n",
      "Non-trainable params: 0\n",
      "_________________________________________________________________\n",
      "Epoch 1/20\n",
      "136/136 [==============================] - 4s 14ms/step - loss: 2.4871 - accuracy: 0.2286 - val_loss: 2.0131 - val_accuracy: 0.3768 - lr: 0.0010\n",
      "Epoch 2/20\n",
      "136/136 [==============================] - 3s 19ms/step - loss: 1.6118 - accuracy: 0.5094 - val_loss: 1.3451 - val_accuracy: 0.5855 - lr: 0.0010\n",
      "Epoch 3/20\n",
      "136/136 [==============================] - 2s 13ms/step - loss: 1.1427 - accuracy: 0.6866 - val_loss: 1.0359 - val_accuracy: 0.7886 - lr: 0.0010\n",
      "Epoch 4/20\n",
      "136/136 [==============================] - 3s 20ms/step - loss: 0.8911 - accuracy: 0.8045 - val_loss: 0.8147 - val_accuracy: 0.8419 - lr: 0.0010\n",
      "Epoch 5/20\n",
      "136/136 [==============================] - 2s 18ms/step - loss: 0.7042 - accuracy: 0.8286 - val_loss: 0.6603 - val_accuracy: 0.8447 - lr: 0.0010\n",
      "Epoch 6/20\n",
      "136/136 [==============================] - 2s 15ms/step - loss: 0.5730 - accuracy: 0.8550 - val_loss: 0.5784 - val_accuracy: 0.8539 - lr: 0.0010\n",
      "Epoch 7/20\n",
      "136/136 [==============================] - 2s 17ms/step - loss: 0.4945 - accuracy: 0.8782 - val_loss: 0.4927 - val_accuracy: 0.8805 - lr: 0.0010\n",
      "Epoch 8/20\n",
      "136/136 [==============================] - 3s 19ms/step - loss: 0.4360 - accuracy: 0.9037 - val_loss: 0.4350 - val_accuracy: 0.9173 - lr: 0.0010\n",
      "Epoch 9/20\n",
      "136/136 [==============================] - 3s 22ms/step - loss: 0.3776 - accuracy: 0.9253 - val_loss: 0.3821 - val_accuracy: 0.9274 - lr: 0.0010\n",
      "Epoch 10/20\n",
      "136/136 [==============================] - 2s 15ms/step - loss: 0.3201 - accuracy: 0.9375 - val_loss: 0.3274 - val_accuracy: 0.9384 - lr: 0.0010\n",
      "Epoch 11/20\n",
      "136/136 [==============================] - 2s 14ms/step - loss: 0.2755 - accuracy: 0.9453 - val_loss: 0.2997 - val_accuracy: 0.9357 - lr: 0.0010\n",
      "Epoch 12/20\n",
      "136/136 [==============================] - 2s 14ms/step - loss: 0.2467 - accuracy: 0.9506 - val_loss: 0.2660 - val_accuracy: 0.9403 - lr: 0.0010\n",
      "Epoch 13/20\n",
      "136/136 [==============================] - 2s 13ms/step - loss: 0.2295 - accuracy: 0.9550 - val_loss: 0.2454 - val_accuracy: 0.9439 - lr: 0.0010\n",
      "Epoch 14/20\n",
      "136/136 [==============================] - 2s 18ms/step - loss: 0.2093 - accuracy: 0.9561 - val_loss: 0.2290 - val_accuracy: 0.9467 - lr: 0.0010\n",
      "Epoch 15/20\n",
      "136/136 [==============================] - 2s 16ms/step - loss: 0.2019 - accuracy: 0.9573 - val_loss: 0.2257 - val_accuracy: 0.9485 - lr: 0.0010\n",
      "Epoch 16/20\n",
      "136/136 [==============================] - 2s 13ms/step - loss: 0.1905 - accuracy: 0.9563 - val_loss: 0.2048 - val_accuracy: 0.9522 - lr: 0.0010\n",
      "Epoch 17/20\n",
      "136/136 [==============================] - 2s 16ms/step - loss: 0.1754 - accuracy: 0.9609 - val_loss: 0.1998 - val_accuracy: 0.9494 - lr: 0.0010\n",
      "Epoch 18/20\n",
      "136/136 [==============================] - 2s 15ms/step - loss: 0.1675 - accuracy: 0.9632 - val_loss: 0.1905 - val_accuracy: 0.9522 - lr: 0.0010\n",
      "Epoch 19/20\n",
      "136/136 [==============================] - 2s 16ms/step - loss: 0.1575 - accuracy: 0.9630 - val_loss: 0.1810 - val_accuracy: 0.9550 - lr: 0.0010\n",
      "Epoch 20/20\n",
      "136/136 [==============================] - 2s 13ms/step - loss: 0.1514 - accuracy: 0.9630 - val_loss: 0.1734 - val_accuracy: 0.9577 - lr: 0.0010\n",
      "Model: \"sequential_7\"\n",
      "_________________________________________________________________\n",
      " Layer (type)                Output Shape              Param #   \n",
      "=================================================================\n",
      " lstm_7 (LSTM)               (None, 8)                 352       \n",
      "                                                                 \n",
      " dense_13 (Dense)            (None, 32)                288       \n",
      "                                                                 \n",
      " dense_14 (Dense)            (None, 17)                561       \n",
      "                                                                 \n",
      "=================================================================\n",
      "Total params: 1,201\n",
      "Trainable params: 1,201\n",
      "Non-trainable params: 0\n",
      "_________________________________________________________________\n"
     ]
    }
   ],
   "source": [
    "model_64, history_64 = create_model(X_train, X_test, y_train, y_test, labels, 64)\n",
    "model_32, history_32 = create_model(X_train, X_test, y_train, y_test, labels, 32)\n",
    "model_16, history_16 = create_model(X_train, X_test, y_train, y_test, labels, 16)\n",
    "model_8, history_8 = create_model(X_train, X_test, y_train, y_test, labels, 8)"
   ]
  },
  {
   "cell_type": "code",
   "execution_count": 82,
   "metadata": {},
   "outputs": [],
   "source": [
    "def plot_loss_accuracy(histories):\n",
    "    fig, axs = plt.subplots(2, 2, figsize=(15, 10))\n",
    "    colors = [\"blue\", \"orange\", \"green\", \"red\"]\n",
    "    count = 0\n",
    "    \n",
    "    for history in histories:\n",
    "        loss = history.history['loss']\n",
    "        val_loss = history.history['val_loss']\n",
    "        accuracy = history.history['accuracy']\n",
    "        val_accuracy = history.history['val_accuracy']\n",
    "        \n",
    "        color = colors[count]\n",
    "\n",
    "        axs[0, 0].plot(accuracy, color=color)\n",
    "        axs[0, 1].plot(val_accuracy, color=color)\n",
    "        axs[1, 0].plot(loss, '--', color=color, alpha=0.5)\n",
    "        axs[1, 1].plot(val_loss, '--', color=color, alpha=0.5)\n",
    "        \n",
    "        axs[0, 0].set_title(\"Accuracy\")\n",
    "        axs[0, 1].set_title(\"Validation Accuracy\")\n",
    "        axs[1, 0].set_title(\"Loss\")\n",
    "        axs[1, 1].set_title(\"Validation Loss\")\n",
    "        \n",
    "        count += 1\n",
    "    \n",
    "    #handles, labels = axs[0, 0].gca().get_legend_handles_labels()\n",
    "    #fig.legend(handles, labels, loc='upper right')\n",
    "    #plt.figlegend(lines, labels, loc = 'lower center', ncol=5, labelspacing=0.)\n",
    "#     lines_labels = [ax.get_legend_handles_labels() for ax in fig.axes]\n",
    "#     lines, labels = [sum(lol, []) for lol in zip(*lines_labels)]\n",
    "#     fig.legend(lines, labels)\n",
    "    #axs[1,1].legend(bbox_to_anchor=(1.05, 0), loc='lower left', borderaxespad=0.)\n",
    "    import matplotlib.patches as mpatches\n",
    "\n",
    "    red_8 = mpatches.Patch(color='red', label='8')\n",
    "    green_16 = mpatches.Patch(color='green', label='16')\n",
    "    orange_32 = mpatches.Patch(color='orange', label='32')\n",
    "    blue_64 = mpatches.Patch(color='blue', label='64')\n",
    "    plt.legend(handles=[red_8, green_16, orange_32, blue_64])"
   ]
  },
  {
   "cell_type": "code",
   "execution_count": 83,
   "metadata": {},
   "outputs": [
    {
     "data": {
      "image/png": "[encoded data removed]",
      "text/plain": [
       "<Figure size 1500x1000 with 4 Axes>"
      ]
     },
     "metadata": {},
     "output_type": "display_data"
    }
   ],
   "source": [
    "plot_loss_accuracy([history_64, history_32, history_16, history_8])"
   ]
  },
  {
   "cell_type": "code",
   "execution_count": 99,
   "metadata": {},
   "outputs": [],
   "source": [
    "def evaluate_models(models):\n",
    "    num_parameters = 64\n",
    "\n",
    "    for model in models:\n",
    "        score = model.evaluate(X_test, y_test, verbose=0)\n",
    "\n",
    "        start_time = time.time()\n",
    "        pred = model.predict(X_test, verbose = 0)\n",
    "        stop_time = time.time()\n",
    "        inference_time = stop_time - start_time\n",
    "        \n",
    "        print(\"LSTM with \" + str(num_parameters) + \" parameters:\")\n",
    "        print(\"Inference Time: \", inference_time)\n",
    "        print(\"Accuracy: \", score[1], \"\\n\")\n",
    "        \n",
    "        num_parameters = int(num_parameters / 2)"
   ]
  },
  {
   "cell_type": "code",
   "execution_count": 100,
   "metadata": {},
   "outputs": [
    {
     "name": "stdout",
     "output_type": "stream",
     "text": [
      "LSTM with 64 parameters:\n",
      "Inference Time:  0.22714591026306152\n",
      "Accuracy:  0.9788603186607361 \n",
      "\n",
      "LSTM with 32 parameters:\n",
      "Inference Time:  0.14401030540466309\n",
      "Accuracy:  0.9797794222831726 \n",
      "\n",
      "LSTM with 16 parameters:\n",
      "Inference Time:  0.1297321319580078\n",
      "Accuracy:  0.9641544222831726 \n",
      "\n",
      "LSTM with 8 parameters:\n",
      "Inference Time:  0.1345689296722412\n",
      "Accuracy:  0.9577205777168274 \n",
      "\n"
     ]
    }
   ],
   "source": [
    "evaluate_models([model_64, model_32, model_16, model_8])"
   ]
  },
  {
   "attachments": {},
   "cell_type": "markdown",
   "metadata": {},
   "source": [
    "## Comparison of the models"
   ]
  },
  {
   "attachments": {},
   "cell_type": "markdown",
   "metadata": {},
   "source": [
    "Although there seems to be no big difference in the accuracy of the different models, the LSTM with 32 parameters could reach the best accuracy for this test data (ca. 0.98). If you want to compare inference times, the LSTM with 16 parameters performs best (ca. 0.13). Nevertheless, I would choose the LSTM with 32 parameters for a practical application due to its accuracy and inference time (inference time is only 0.015s higher than for the one with 16 parameters, but the accuracy is about a value of 0.015 better than this model)."
   ]
  },
  {
   "attachments": {},
   "cell_type": "markdown",
   "metadata": {},
   "source": [
    "## Comparison to the $1 Gesture Recognizer"
   ]
  },
  {
   "attachments": {},
   "cell_type": "markdown",
   "metadata": {},
   "source": [
    "As noted in the evaluation paper of the gesture recognizer (Wobbrock et al., 2007), the recognizer took 1.59 (SD=0.04) minutes on average. Recognition errors occured in 0.98% (SD=3.63), which results in an accuracy value of approximately 0.99. This was the result after training on recognition errors with 9 templates/training examples. However, with only 1 template, recognition errors occured in approximately 3%. <br>\n",
    "Based on these results, I would tend to use a LSTM with 32 parameters for a practical application due to its significantly lower inference time. If you compare the accuracy results, there is no big difference between those models as the Gesture Recognizer had an accuracy of 0.97 in the worst case and 0.99 in the best case, while the LSTM was at 0.98. \n",
    "\n",
    "Reference: <br>\n",
    "Wobbrock, J.O., Wilson, A.D. and Li, Y. (2007). Gestures without libraries, toolkits or training: A $1 recognizer for user interface prototypes. Proceedings of the ACM Symposium on User Interface Software and Technology (UIST '07). Newport, Rhode Island (October 7-10, 2007). New York: ACM Press, pp. 159-168."
   ]
  },
  {
   "cell_type": "code",
   "execution_count": null,
   "metadata": {},
   "outputs": [],
   "source": []
  }
 ],
 "metadata": {
  "kernelspec": {
   "display_name": "Python 3 (ipykernel)",
   "language": "python",
   "name": "python3"
  },
  "language_info": {
   "codemirror_mode": {
    "name": "ipython",
    "version": 3
   },
   "file_extension": ".py",
   "mimetype": "text/x-python",
   "name": "python",
   "nbconvert_exporter": "python",
   "pygments_lexer": "ipython3",
   "version": "3.10.0"
  }
 },
 "nbformat": 4,
 "nbformat_minor": 2
}
